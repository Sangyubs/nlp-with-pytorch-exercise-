{
  "nbformat": 4,
  "nbformat_minor": 0,
  "metadata": {
    "colab": {
      "provenance": [],
      "toc_visible": true,
      "mount_file_id": "1adSFzp70bWYqKsrZnPo8_KpALV-CeuyX",
      "authorship_tag": "ABX9TyPlfWyBLuyoa6nl/7+0xKtK",
      "include_colab_link": true
    },
    "kernelspec": {
      "name": "python3",
      "display_name": "Python 3"
    },
    "language_info": {
      "name": "python"
    }
  },
  "cells": [
    {
      "cell_type": "markdown",
      "metadata": {
        "id": "view-in-github",
        "colab_type": "text"
      },
      "source": [
        "<a href=\"https://colab.research.google.com/github/Sangyubs/nlp-with-pytorch-exercise-/blob/main/230524_1%EC%9E%A5.ipynb\" target=\"_parent\"><img src=\"https://colab.research.google.com/assets/colab-badge.svg\" alt=\"Open In Colab\"/></a>"
      ]
    },
    {
      "cell_type": "markdown",
      "source": [
        "# 1.2 샘플, 타깃의 인코딩\n",
        "- 원핫\n",
        "- TF\n",
        "- TF-IDF\n",
        "- 타깃 인코딩\n"
      ],
      "metadata": {
        "id": "vbUxTWCUqn0A"
      }
    },
    {
      "cell_type": "markdown",
      "source": [
        "### 원핫벡터 또는 이진 표현 만들기.\n"
      ],
      "metadata": {
        "id": "1VtKISYLq1eC"
      }
    },
    {
      "cell_type": "markdown",
      "source": [
        "#### **!!!이진벡터, 희소행렬 -> array**"
      ],
      "metadata": {
        "id": "jOt5pwxz1poJ"
      }
    },
    {
      "cell_type": "code",
      "source": [
        "from sklearn.feature_extraction.text import CountVectorizer\n",
        "import seaborn as sns\n",
        "\n",
        "corpus = ['Time flies like an arrow',\n",
        "          'Fruit flies like a banana']\n",
        "\n",
        "one_hot_vectorizer = CountVectorizer(binary=True) # binary=True : all non zero counts are set to 1\n",
        "one_hot = one_hot_vectorizer.fit_transform(corpus).toarray() # vectorizer는 희소행렬인 csr 반환, toarray()를 통해 넘파이 어레이로 변환\n",
        "vocab = one_hot_vectorizer.get_feature_names_out()\n",
        "print(vocab)\n",
        "print(one_hot)\n"
      ],
      "metadata": {
        "colab": {
          "base_uri": "https://localhost:8080/"
        },
        "id": "PD3l5irtrT8e",
        "outputId": "e19d859f-a886-4dc9-ccbf-5301ada8a799"
      },
      "execution_count": null,
      "outputs": [
        {
          "output_type": "stream",
          "name": "stdout",
          "text": [
            "['an' 'arrow' 'banana' 'flies' 'fruit' 'like' 'time']\n",
            "[[1 1 0 1 0 1 1]\n",
            " [0 0 1 1 1 1 0]]\n"
          ]
        }
      ]
    },
    {
      "cell_type": "code",
      "source": [
        "sns.heatmap(one_hot, annot = True,\n",
        "            cbar = False, xticklabels = vocab,\n",
        "            yticklabels = ['Sentence1', 'Sentence2'])"
      ],
      "metadata": {
        "colab": {
          "base_uri": "https://localhost:8080/",
          "height": 449
        },
        "id": "RZws_TsDuCGF",
        "outputId": "0fb2fdc0-11ed-4ad4-fc87-9d06ef911ab8"
      },
      "execution_count": null,
      "outputs": [
        {
          "output_type": "execute_result",
          "data": {
            "text/plain": [
              "<Axes: >"
            ]
          },
          "metadata": {},
          "execution_count": 10
        },
        {
          "output_type": "display_data",
          "data": {
            "text/plain": [
              "<Figure size 640x480 with 1 Axes>"
            ],
            "image/png": "[encoded data removed]"
          },
          "metadata": {}
        }
      ]
    },
    {
      "cell_type": "code",
      "source": [
        "corpus_2 = ['Time flies like an flies']\n",
        "one_hot = one_hot_vectorizer.fit_transform(corpus_2).toarray()\n",
        "one_hot\n"
      ],
      "metadata": {
        "colab": {
          "base_uri": "https://localhost:8080/"
        },
        "id": "L5095HsUr-AQ",
        "outputId": "14486955-5785-4948-a2b4-608b833f1687"
      },
      "execution_count": null,
      "outputs": [
        {
          "output_type": "execute_result",
          "data": {
            "text/plain": [
              "array([[1, 1, 1, 1]])"
            ]
          },
          "metadata": {},
          "execution_count": 12
        }
      ]
    },
    {
      "cell_type": "markdown",
      "source": [
        "# 1.4 파이토치 연습"
      ],
      "metadata": {
        "id": "V2kOTBMntfXk"
      }
    },
    {
      "cell_type": "markdown",
      "source": [
        "## 텐서만들기\n"
      ],
      "metadata": {
        "id": "oi2s1_VST0e6"
      }
    },
    {
      "cell_type": "code",
      "source": [
        "import torch"
      ],
      "metadata": {
        "id": "CSssGu3bVe9l"
      },
      "execution_count": 3,
      "outputs": []
    },
    {
      "cell_type": "code",
      "source": [
        "# 헬퍼 함수\n",
        "\n",
        "def describe(x):\n",
        "  print('타입 : {}'.format(x.type()))\n",
        "  print('크기 : {}'.format(x.shape))\n",
        "  print('값 : \\n{}'.format(x))"
      ],
      "metadata": {
        "id": "seid_eJDT_wp"
      },
      "execution_count": 4,
      "outputs": []
    },
    {
      "cell_type": "code",
      "source": [
        "describe(torch.Tensor(2, 3))"
      ],
      "metadata": {
        "colab": {
          "base_uri": "https://localhost:8080/"
        },
        "id": "DLT5ZrRjVYzD",
        "outputId": "24f8261d-de35-4385-eedc-79c6659e2a89"
      },
      "execution_count": 6,
      "outputs": [
        {
          "output_type": "stream",
          "name": "stdout",
          "text": [
            "타입 : torch.FloatTensor\n",
            "크기 : torch.Size([2, 3])\n",
            "값 : \n",
            "tensor([[-6.0940e-37, -5.5553e-38, -8.6781e-07],\n",
            "        [ 4.5831e-41,  1.3661e-38,  0.0000e+00]])\n"
          ]
        }
      ]
    },
    {
      "cell_type": "code",
      "source": [
        "describe(torch.rand(2,3))"
      ],
      "metadata": {
        "colab": {
          "base_uri": "https://localhost:8080/"
        },
        "id": "um9aEw-wVcxv",
        "outputId": "7dbce541-4a80-4d33-f43b-51a0c4befc4f"
      },
      "execution_count": 7,
      "outputs": [
        {
          "output_type": "stream",
          "name": "stdout",
          "text": [
            "타입 : torch.FloatTensor\n",
            "크기 : torch.Size([2, 3])\n",
            "값 : \n",
            "tensor([[0.6706, 0.0898, 0.4067],\n",
            "        [0.4632, 0.1266, 0.3527]])\n"
          ]
        }
      ]
    },
    {
      "cell_type": "code",
      "source": [
        "describe(torch.randn(2, 3))"
      ],
      "metadata": {
        "colab": {
          "base_uri": "https://localhost:8080/"
        },
        "id": "TAp2QT_4VqJP",
        "outputId": "f66f7881-7144-4c7d-9580-34b6456c6746"
      },
      "execution_count": 8,
      "outputs": [
        {
          "output_type": "stream",
          "name": "stdout",
          "text": [
            "타입 : torch.FloatTensor\n",
            "크기 : torch.Size([2, 3])\n",
            "값 : \n",
            "tensor([[-1.0307,  0.6460, -0.0065],\n",
            "        [ 0.3045, -0.2209,  0.0094]])\n"
          ]
        }
      ]
    },
    {
      "cell_type": "code",
      "source": [
        "describe(torch.zeros(2, 3))"
      ],
      "metadata": {
        "colab": {
          "base_uri": "https://localhost:8080/"
        },
        "id": "jEbdkp7gVrzH",
        "outputId": "88867278-a5ac-4e9d-dedf-8e00baaeb824"
      },
      "execution_count": 9,
      "outputs": [
        {
          "output_type": "stream",
          "name": "stdout",
          "text": [
            "타입 : torch.FloatTensor\n",
            "크기 : torch.Size([2, 3])\n",
            "값 : \n",
            "tensor([[0., 0., 0.],\n",
            "        [0., 0., 0.]])\n"
          ]
        }
      ]
    },
    {
      "cell_type": "code",
      "source": [
        "describe(torch.ones(2, 3 ))"
      ],
      "metadata": {
        "colab": {
          "base_uri": "https://localhost:8080/"
        },
        "id": "bZhszZLVVyIA",
        "outputId": "dc651c01-b41a-4d28-8d6d-3f5e81e4133b"
      },
      "execution_count": 10,
      "outputs": [
        {
          "output_type": "stream",
          "name": "stdout",
          "text": [
            "타입 : torch.FloatTensor\n",
            "크기 : torch.Size([2, 3])\n",
            "값 : \n",
            "tensor([[1., 1., 1.],\n",
            "        [1., 1., 1.]])\n"
          ]
        }
      ]
    },
    {
      "cell_type": "code",
      "source": [
        "x = torch.Tensor(2, 3)\n",
        "x.fill_(2)\n",
        "describe(x)"
      ],
      "metadata": {
        "colab": {
          "base_uri": "https://localhost:8080/"
        },
        "id": "h1c6nnbCVzjl",
        "outputId": "e5adf1e5-9973-40c5-92be-c7faeb809387"
      },
      "execution_count": 12,
      "outputs": [
        {
          "output_type": "stream",
          "name": "stdout",
          "text": [
            "타입 : torch.FloatTensor\n",
            "크기 : torch.Size([2, 3])\n",
            "값 : \n",
            "tensor([[2., 2., 2.],\n",
            "        [2., 2., 2.]])\n"
          ]
        }
      ]
    },
    {
      "cell_type": "code",
      "source": [
        "x = torch.Tensor([[1,2,3],\n",
        "                  [4,5,6]])\n",
        "describe(x)"
      ],
      "metadata": {
        "colab": {
          "base_uri": "https://localhost:8080/"
        },
        "id": "lQbC0ek2V7yk",
        "outputId": "9a80d6f4-7450-4dac-ce21-c502fb9ce4df"
      },
      "execution_count": 13,
      "outputs": [
        {
          "output_type": "stream",
          "name": "stdout",
          "text": [
            "타입 : torch.FloatTensor\n",
            "크기 : torch.Size([2, 3])\n",
            "값 : \n",
            "tensor([[1., 2., 3.],\n",
            "        [4., 5., 6.]])\n"
          ]
        }
      ]
    },
    {
      "cell_type": "code",
      "source": [
        "import numpy as np\n",
        "npy = np.random.rand(2, 3)\n",
        "x = torch.from_numpy(npy)\n",
        "describe(x)"
      ],
      "metadata": {
        "colab": {
          "base_uri": "https://localhost:8080/"
        },
        "id": "hqmPGJPMWF7M",
        "outputId": "4ae39f07-4064-47d9-ce5d-d92c49040393"
      },
      "execution_count": 14,
      "outputs": [
        {
          "output_type": "stream",
          "name": "stdout",
          "text": [
            "타입 : torch.DoubleTensor\n",
            "크기 : torch.Size([2, 3])\n",
            "값 : \n",
            "tensor([[0.3057, 0.6959, 0.9078],\n",
            "        [0.5463, 0.9959, 0.1161]], dtype=torch.float64)\n"
          ]
        }
      ]
    },
    {
      "cell_type": "code",
      "source": [
        "x.fill_(55)"
      ],
      "metadata": {
        "colab": {
          "base_uri": "https://localhost:8080/"
        },
        "id": "thWm_bPQWSiO",
        "outputId": "6ddbaa77-5f80-4c67-9617-ab070454aee2"
      },
      "execution_count": 15,
      "outputs": [
        {
          "output_type": "execute_result",
          "data": {
            "text/plain": [
              "tensor([[55., 55., 55.],\n",
              "        [55., 55., 55.]], dtype=torch.float64)"
            ]
          },
          "metadata": {},
          "execution_count": 15
        }
      ]
    },
    {
      "cell_type": "code",
      "source": [
        "x = torch.arange(6).view(2,3)\n",
        "describe(x)"
      ],
      "metadata": {
        "colab": {
          "base_uri": "https://localhost:8080/"
        },
        "id": "5VNQUzDMWV2W",
        "outputId": "5105b9ed-694b-45ab-fa0e-7ff72b9a634b"
      },
      "execution_count": 17,
      "outputs": [
        {
          "output_type": "stream",
          "name": "stdout",
          "text": [
            "타입 : torch.LongTensor\n",
            "크기 : torch.Size([2, 3])\n",
            "값 : \n",
            "tensor([[0, 1, 2],\n",
            "        [3, 4, 5]])\n"
          ]
        }
      ]
    },
    {
      "cell_type": "code",
      "source": [
        "x = torch.Tensor([[1, 2, 3],\n",
        "                  [4, 5, 6]])\n",
        "describe(x)"
      ],
      "metadata": {
        "colab": {
          "base_uri": "https://localhost:8080/"
        },
        "id": "3pik16RLagdD",
        "outputId": "8a8ce376-5c91-40c3-bfe2-0bc359bfb2fe"
      },
      "execution_count": 19,
      "outputs": [
        {
          "output_type": "stream",
          "name": "stdout",
          "text": [
            "타입 : torch.FloatTensor\n",
            "크기 : torch.Size([2, 3])\n",
            "값 : \n",
            "tensor([[1., 2., 3.],\n",
            "        [4., 5., 6.]])\n"
          ]
        }
      ]
    },
    {
      "cell_type": "code",
      "source": [
        "x = x.long()"
      ],
      "metadata": {
        "id": "pixdVDYsaq_e"
      },
      "execution_count": 20,
      "outputs": []
    },
    {
      "cell_type": "code",
      "source": [
        "describe(x)"
      ],
      "metadata": {
        "colab": {
          "base_uri": "https://localhost:8080/"
        },
        "id": "CUpSPoMuauuW",
        "outputId": "1241727b-4292-4cdf-c5e0-5033c36a8fda"
      },
      "execution_count": 21,
      "outputs": [
        {
          "output_type": "stream",
          "name": "stdout",
          "text": [
            "타입 : torch.LongTensor\n",
            "크기 : torch.Size([2, 3])\n",
            "값 : \n",
            "tensor([[1, 2, 3],\n",
            "        [4, 5, 6]])\n"
          ]
        }
      ]
    },
    {
      "cell_type": "markdown",
      "source": [
        "#### **!!!tensor 만들기**\n",
        "- tensor, Tensor"
      ],
      "metadata": {
        "id": "eqVQ0WDB1upm"
      }
    },
    {
      "cell_type": "code",
      "source": [
        "# torch.Tensor은 FloatTensor 반환 / torch.tensor은 자동으로 dtype에 맞는 Tensor 반환, 또한 dtype을 별도 설정 가능\n",
        "# 기억은 1) 만들때 dtype지정은 torch.tensor로 이후 지정은 메서드로(long,, float, double)\n",
        "# 임의의 tensor를 만들땐 torch.Tensor(tensor 은 데이터를 받음)\n",
        "x = torch.tensor([[1, 2, 3],  \n",
        "                  [4, 5, 6]], dtype = torch.int64)\n",
        "describe(x)"
      ],
      "metadata": {
        "colab": {
          "base_uri": "https://localhost:8080/"
        },
        "id": "YiVRIiqsavqg",
        "outputId": "a3c4d32d-4843-48a2-edcc-b5e36ba52192"
      },
      "execution_count": 26,
      "outputs": [
        {
          "output_type": "stream",
          "name": "stdout",
          "text": [
            "타입 : torch.LongTensor\n",
            "크기 : torch.Size([2, 3])\n",
            "값 : \n",
            "tensor([[1, 2, 3],\n",
            "        [4, 5, 6]])\n"
          ]
        }
      ]
    },
    {
      "cell_type": "code",
      "source": [
        "x = x.float()\n",
        "describe(x)"
      ],
      "metadata": {
        "colab": {
          "base_uri": "https://localhost:8080/"
        },
        "id": "G4edsY-Xa6Qq",
        "outputId": "205b44a9-cd0f-4b49-ba77-5c26f5dc69e2"
      },
      "execution_count": 27,
      "outputs": [
        {
          "output_type": "stream",
          "name": "stdout",
          "text": [
            "타입 : torch.FloatTensor\n",
            "크기 : torch.Size([2, 3])\n",
            "값 : \n",
            "tensor([[1., 2., 3.],\n",
            "        [4., 5., 6.]])\n"
          ]
        }
      ]
    },
    {
      "cell_type": "code",
      "source": [
        "x = x.double()\n",
        "describe(x)"
      ],
      "metadata": {
        "colab": {
          "base_uri": "https://localhost:8080/"
        },
        "id": "IfWSa7-cbws5",
        "outputId": "c59ff863-ce11-4f15-805a-e5d7ee781956"
      },
      "execution_count": 29,
      "outputs": [
        {
          "output_type": "stream",
          "name": "stdout",
          "text": [
            "타입 : torch.DoubleTensor\n",
            "크기 : torch.Size([2, 3])\n",
            "값 : \n",
            "tensor([[1., 2., 3.],\n",
            "        [4., 5., 6.]], dtype=torch.float64)\n"
          ]
        }
      ]
    },
    {
      "cell_type": "code",
      "source": [
        "x = torch.randn(2, 3)\n",
        "describe(x)"
      ],
      "metadata": {
        "colab": {
          "base_uri": "https://localhost:8080/"
        },
        "id": "GcYSWvuocGil",
        "outputId": "12d6d4d1-cb69-42bc-9502-efe51e0490cb"
      },
      "execution_count": 30,
      "outputs": [
        {
          "output_type": "stream",
          "name": "stdout",
          "text": [
            "타입 : torch.FloatTensor\n",
            "크기 : torch.Size([2, 3])\n",
            "값 : \n",
            "tensor([[ 0.2652,  0.6575,  0.3677],\n",
            "        [-1.0468,  0.2494,  1.8321]])\n"
          ]
        }
      ]
    },
    {
      "cell_type": "code",
      "source": [
        "describe(torch.add(x, x))"
      ],
      "metadata": {
        "colab": {
          "base_uri": "https://localhost:8080/"
        },
        "id": "tI1V1hdacWkZ",
        "outputId": "f6341c49-b288-4b82-9e45-3a068636c91d"
      },
      "execution_count": 32,
      "outputs": [
        {
          "output_type": "stream",
          "name": "stdout",
          "text": [
            "타입 : torch.FloatTensor\n",
            "크기 : torch.Size([2, 3])\n",
            "값 : \n",
            "tensor([[ 0.5305,  1.3150,  0.7354],\n",
            "        [-2.0936,  0.4987,  3.6642]])\n"
          ]
        }
      ]
    },
    {
      "cell_type": "code",
      "source": [
        "describe(x + x + x)"
      ],
      "metadata": {
        "colab": {
          "base_uri": "https://localhost:8080/"
        },
        "id": "DcNz5pFBcYrk",
        "outputId": "640623e4-85ca-4d7d-c638-fe3c119627d9"
      },
      "execution_count": 33,
      "outputs": [
        {
          "output_type": "stream",
          "name": "stdout",
          "text": [
            "타입 : torch.FloatTensor\n",
            "크기 : torch.Size([2, 3])\n",
            "값 : \n",
            "tensor([[ 0.7957,  1.9725,  1.1031],\n",
            "        [-3.1404,  0.7481,  5.4963]])\n"
          ]
        }
      ]
    },
    {
      "cell_type": "code",
      "source": [
        "x = torch.arange(6).view(2,3)\n",
        "describe(x)"
      ],
      "metadata": {
        "colab": {
          "base_uri": "https://localhost:8080/"
        },
        "id": "22_g-9q4cb2e",
        "outputId": "99fabf10-8392-4c69-97c5-fa646b389d97"
      },
      "execution_count": 35,
      "outputs": [
        {
          "output_type": "stream",
          "name": "stdout",
          "text": [
            "타입 : torch.LongTensor\n",
            "크기 : torch.Size([2, 3])\n",
            "값 : \n",
            "tensor([[0, 1, 2],\n",
            "        [3, 4, 5]])\n"
          ]
        }
      ]
    },
    {
      "cell_type": "code",
      "source": [
        "describe(torch.sum(x, dim = 0))"
      ],
      "metadata": {
        "colab": {
          "base_uri": "https://localhost:8080/"
        },
        "id": "enLzohlocdFu",
        "outputId": "ede86f9a-2b2c-4842-b141-b95339f3243c"
      },
      "execution_count": 36,
      "outputs": [
        {
          "output_type": "stream",
          "name": "stdout",
          "text": [
            "타입 : torch.LongTensor\n",
            "크기 : torch.Size([3])\n",
            "값 : \n",
            "tensor([3, 5, 7])\n"
          ]
        }
      ]
    },
    {
      "cell_type": "code",
      "source": [
        "describe(torch.transpose(x, 0, 1))"
      ],
      "metadata": {
        "colab": {
          "base_uri": "https://localhost:8080/"
        },
        "id": "j8P7momZcdI7",
        "outputId": "c493dfa8-c4b7-40cd-d68d-0c8c0eeef892"
      },
      "execution_count": 37,
      "outputs": [
        {
          "output_type": "stream",
          "name": "stdout",
          "text": [
            "타입 : torch.LongTensor\n",
            "크기 : torch.Size([3, 2])\n",
            "값 : \n",
            "tensor([[0, 3],\n",
            "        [1, 4],\n",
            "        [2, 5]])\n"
          ]
        }
      ]
    },
    {
      "cell_type": "code",
      "source": [
        "x"
      ],
      "metadata": {
        "colab": {
          "base_uri": "https://localhost:8080/"
        },
        "id": "FpGSDpX3cdLj",
        "outputId": "c991117b-ede5-4ca4-cf2c-512e5504024f"
      },
      "execution_count": 38,
      "outputs": [
        {
          "output_type": "execute_result",
          "data": {
            "text/plain": [
              "tensor([[0, 1, 2],\n",
              "        [3, 4, 5]])"
            ]
          },
          "metadata": {},
          "execution_count": 38
        }
      ]
    },
    {
      "cell_type": "code",
      "source": [
        "describe(x[:1, :2])"
      ],
      "metadata": {
        "colab": {
          "base_uri": "https://localhost:8080/"
        },
        "id": "Av-2TwIucyOv",
        "outputId": "e5b6f7ac-1c9a-485d-9d35-429c3fcc9853"
      },
      "execution_count": 39,
      "outputs": [
        {
          "output_type": "stream",
          "name": "stdout",
          "text": [
            "타입 : torch.LongTensor\n",
            "크기 : torch.Size([1, 2])\n",
            "값 : \n",
            "tensor([[0, 1]])\n"
          ]
        }
      ]
    },
    {
      "cell_type": "code",
      "source": [
        "describe(torch.index_select(x, dim = 1, index = torch.tensor([0,2])))"
      ],
      "metadata": {
        "colab": {
          "base_uri": "https://localhost:8080/"
        },
        "id": "wOsAfd7-c1OW",
        "outputId": "3e84f319-904d-4c69-8dd7-49a1f3d4d4f0"
      },
      "execution_count": 41,
      "outputs": [
        {
          "output_type": "stream",
          "name": "stdout",
          "text": [
            "타입 : torch.LongTensor\n",
            "크기 : torch.Size([2, 2])\n",
            "값 : \n",
            "tensor([[0, 2],\n",
            "        [3, 5]])\n"
          ]
        }
      ]
    },
    {
      "cell_type": "code",
      "source": [
        "x"
      ],
      "metadata": {
        "colab": {
          "base_uri": "https://localhost:8080/"
        },
        "id": "nasW634Rc_oX",
        "outputId": "7317c8e8-3265-463f-b534-217d1ce332a8"
      },
      "execution_count": 42,
      "outputs": [
        {
          "output_type": "execute_result",
          "data": {
            "text/plain": [
              "tensor([[0, 1, 2],\n",
              "        [3, 4, 5]])"
            ]
          },
          "metadata": {},
          "execution_count": 42
        }
      ]
    },
    {
      "cell_type": "code",
      "source": [
        "row_indices = torch.arange(2).long()\n",
        "col_indices = torch.tensor([0, 2], dtype = torch.int64)\n",
        "describe(x[torch.tensor([0,1]), torch.tensor([0,2])])"
      ],
      "metadata": {
        "colab": {
          "base_uri": "https://localhost:8080/"
        },
        "id": "SBiXXz_sdGQM",
        "outputId": "5402efc2-da10-40c4-a87d-dbf51239bf02"
      },
      "execution_count": 43,
      "outputs": [
        {
          "output_type": "stream",
          "name": "stdout",
          "text": [
            "타입 : torch.LongTensor\n",
            "크기 : torch.Size([2])\n",
            "값 : \n",
            "tensor([0, 5])\n"
          ]
        }
      ]
    },
    {
      "cell_type": "code",
      "source": [
        "describe(torch.arange(10))"
      ],
      "metadata": {
        "colab": {
          "base_uri": "https://localhost:8080/"
        },
        "id": "WBAh73rDdjZE",
        "outputId": "3a3286e6-d9a7-4800-f2e3-263872b6c6e9"
      },
      "execution_count": 44,
      "outputs": [
        {
          "output_type": "stream",
          "name": "stdout",
          "text": [
            "타입 : torch.LongTensor\n",
            "크기 : torch.Size([10])\n",
            "값 : \n",
            "tensor([0, 1, 2, 3, 4, 5, 6, 7, 8, 9])\n"
          ]
        }
      ]
    },
    {
      "cell_type": "code",
      "source": [
        "x = torch.arange(0,20)\n",
        "x = x.view(2,2,5)"
      ],
      "metadata": {
        "id": "_EZ7Om6vdwYw"
      },
      "execution_count": 49,
      "outputs": []
    },
    {
      "cell_type": "code",
      "source": [
        "x[1,1,3]"
      ],
      "metadata": {
        "colab": {
          "base_uri": "https://localhost:8080/"
        },
        "id": "3aw1viKLeO9y",
        "outputId": "2ce4449b-50b8-4c77-86e0-3cf1480513a8"
      },
      "execution_count": 50,
      "outputs": [
        {
          "output_type": "execute_result",
          "data": {
            "text/plain": [
              "tensor(18)"
            ]
          },
          "metadata": {},
          "execution_count": 50
        }
      ]
    },
    {
      "cell_type": "code",
      "source": [
        "x"
      ],
      "metadata": {
        "colab": {
          "base_uri": "https://localhost:8080/"
        },
        "id": "4CwJphWtePIy",
        "outputId": "fc643412-cd78-467e-8620-44c0fe4ddd57"
      },
      "execution_count": 51,
      "outputs": [
        {
          "output_type": "execute_result",
          "data": {
            "text/plain": [
              "tensor([[[ 0,  1,  2,  3,  4],\n",
              "         [ 5,  6,  7,  8,  9]],\n",
              "\n",
              "        [[10, 11, 12, 13, 14],\n",
              "         [15, 16, 17, 18, 19]]])"
            ]
          },
          "metadata": {},
          "execution_count": 51
        }
      ]
    },
    {
      "cell_type": "code",
      "source": [
        "x = torch.arange(12).view(3,4)\n",
        "y = torch.arange(4)\n",
        "describe(x)\n",
        "describe(y)"
      ],
      "metadata": {
        "colab": {
          "base_uri": "https://localhost:8080/"
        },
        "id": "iUMEnIe7eiPq",
        "outputId": "6f602518-bc0c-4e7a-fc1d-ca2039f73489"
      },
      "execution_count": 52,
      "outputs": [
        {
          "output_type": "stream",
          "name": "stdout",
          "text": [
            "타입 : torch.LongTensor\n",
            "크기 : torch.Size([3, 4])\n",
            "값 : \n",
            "tensor([[ 0,  1,  2,  3],\n",
            "        [ 4,  5,  6,  7],\n",
            "        [ 8,  9, 10, 11]])\n",
            "타입 : torch.LongTensor\n",
            "크기 : torch.Size([4])\n",
            "값 : \n",
            "tensor([0, 1, 2, 3])\n"
          ]
        }
      ]
    },
    {
      "cell_type": "code",
      "source": [
        "x+y"
      ],
      "metadata": {
        "colab": {
          "base_uri": "https://localhost:8080/"
        },
        "id": "ARA2ohM-fAQn",
        "outputId": "9496a9e2-b8e9-420e-fb3f-bc49a2ff0b49"
      },
      "execution_count": 57,
      "outputs": [
        {
          "output_type": "execute_result",
          "data": {
            "text/plain": [
              "tensor([[ 0,  2,  4,  6],\n",
              "        [ 4,  6,  8, 10],\n",
              "        [ 8, 10, 12, 14]])"
            ]
          },
          "metadata": {},
          "execution_count": 57
        }
      ]
    },
    {
      "cell_type": "code",
      "source": [
        "x = torch.arange(12).view(3,4)\n",
        "print(x.shape)\n",
        "x = x.unsqueeze(dim = 1)\n",
        "print(x.shape)"
      ],
      "metadata": {
        "colab": {
          "base_uri": "https://localhost:8080/"
        },
        "id": "0iJrjnvBfGpZ",
        "outputId": "e863a3e3-63af-49a3-f9c0-268165de53e2"
      },
      "execution_count": 59,
      "outputs": [
        {
          "output_type": "stream",
          "name": "stdout",
          "text": [
            "torch.Size([3, 4])\n",
            "torch.Size([3, 1, 4])\n"
          ]
        }
      ]
    },
    {
      "cell_type": "code",
      "source": [
        "x = x.unsqueeze(dim = -1)"
      ],
      "metadata": {
        "id": "wIKFP-I8nD15"
      },
      "execution_count": 62,
      "outputs": []
    },
    {
      "cell_type": "code",
      "source": [
        "x.shape"
      ],
      "metadata": {
        "colab": {
          "base_uri": "https://localhost:8080/"
        },
        "id": "qWRZONI0nMqx",
        "outputId": "9b39c1c3-b055-44db-d060-5919a2dfdd94"
      },
      "execution_count": 64,
      "outputs": [
        {
          "output_type": "execute_result",
          "data": {
            "text/plain": [
              "torch.Size([3, 1, 1, 4, 1])"
            ]
          },
          "metadata": {},
          "execution_count": 64
        }
      ]
    },
    {
      "cell_type": "code",
      "source": [
        "x = x.squeeze()"
      ],
      "metadata": {
        "id": "DVXgJg7wnHvK"
      },
      "execution_count": 65,
      "outputs": []
    },
    {
      "cell_type": "code",
      "source": [
        "x.shape"
      ],
      "metadata": {
        "colab": {
          "base_uri": "https://localhost:8080/"
        },
        "id": "3gFK8TYLnIb2",
        "outputId": "2ba305a4-ddb8-4903-c316-a2e0e0cdfebb"
      },
      "execution_count": 66,
      "outputs": [
        {
          "output_type": "execute_result",
          "data": {
            "text/plain": [
              "torch.Size([3, 4])"
            ]
          },
          "metadata": {},
          "execution_count": 66
        }
      ]
    },
    {
      "cell_type": "code",
      "source": [
        "x = torch.arange(12).reshape(3, 4)\n",
        "y = torch.arange(10, 13).reshape(3,1)"
      ],
      "metadata": {
        "id": "sgGEBoCZnPOp"
      },
      "execution_count": 67,
      "outputs": []
    },
    {
      "cell_type": "code",
      "source": [
        "x.add_(y)\n",
        "x"
      ],
      "metadata": {
        "colab": {
          "base_uri": "https://localhost:8080/"
        },
        "id": "RJk_QpAwolsx",
        "outputId": "db04e8c4-6265-4737-b300-aad640319845"
      },
      "execution_count": 69,
      "outputs": [
        {
          "output_type": "execute_result",
          "data": {
            "text/plain": [
              "tensor([[10, 11, 12, 13],\n",
              "        [15, 16, 17, 18],\n",
              "        [20, 21, 22, 23]])"
            ]
          },
          "metadata": {},
          "execution_count": 69
        }
      ]
    },
    {
      "cell_type": "code",
      "source": [
        "x = torch.arange(6).view(2,3)\n",
        "describe(x)\n",
        "describe(torch.cat([x, x], dim = 0))\n",
        "describe(torch.cat([x, x], dim = 1))"
      ],
      "metadata": {
        "colab": {
          "base_uri": "https://localhost:8080/"
        },
        "id": "5xr9oGfZomre",
        "outputId": "d2a2ff45-8cf0-4fbb-d467-5aa6eddfb9d9"
      },
      "execution_count": 70,
      "outputs": [
        {
          "output_type": "stream",
          "name": "stdout",
          "text": [
            "타입 : torch.LongTensor\n",
            "크기 : torch.Size([2, 3])\n",
            "값 : \n",
            "tensor([[0, 1, 2],\n",
            "        [3, 4, 5]])\n",
            "타입 : torch.LongTensor\n",
            "크기 : torch.Size([4, 3])\n",
            "값 : \n",
            "tensor([[0, 1, 2],\n",
            "        [3, 4, 5],\n",
            "        [0, 1, 2],\n",
            "        [3, 4, 5]])\n",
            "타입 : torch.LongTensor\n",
            "크기 : torch.Size([2, 6])\n",
            "값 : \n",
            "tensor([[0, 1, 2, 0, 1, 2],\n",
            "        [3, 4, 5, 3, 4, 5]])\n"
          ]
        }
      ]
    },
    {
      "cell_type": "code",
      "source": [
        "describe(torch.stack([x, x]))"
      ],
      "metadata": {
        "colab": {
          "base_uri": "https://localhost:8080/"
        },
        "id": "20OnqWpqpHsC",
        "outputId": "fb34e7ab-4e51-4acb-f6d5-c177ce9bfff8"
      },
      "execution_count": 71,
      "outputs": [
        {
          "output_type": "stream",
          "name": "stdout",
          "text": [
            "타입 : torch.LongTensor\n",
            "크기 : torch.Size([2, 2, 3])\n",
            "값 : \n",
            "tensor([[[0, 1, 2],\n",
            "         [3, 4, 5]],\n",
            "\n",
            "        [[0, 1, 2],\n",
            "         [3, 4, 5]]])\n"
          ]
        }
      ]
    },
    {
      "cell_type": "code",
      "source": [
        "batch_size = 3\n",
        "seq_size = 4\n",
        "feature_size = 5\n",
        "x = torch.arange(batch_size * seq_size * feature_size).view(batch_size, seq_size, feature_size)\n",
        "describe(x)"
      ],
      "metadata": {
        "colab": {
          "base_uri": "https://localhost:8080/"
        },
        "id": "7j5A7mDvpOpv",
        "outputId": "a3101775-0191-43d2-8e2c-47a63d4f8305"
      },
      "execution_count": 74,
      "outputs": [
        {
          "output_type": "stream",
          "name": "stdout",
          "text": [
            "타입 : torch.LongTensor\n",
            "크기 : torch.Size([3, 4, 5])\n",
            "값 : \n",
            "tensor([[[ 0,  1,  2,  3,  4],\n",
            "         [ 5,  6,  7,  8,  9],\n",
            "         [10, 11, 12, 13, 14],\n",
            "         [15, 16, 17, 18, 19]],\n",
            "\n",
            "        [[20, 21, 22, 23, 24],\n",
            "         [25, 26, 27, 28, 29],\n",
            "         [30, 31, 32, 33, 34],\n",
            "         [35, 36, 37, 38, 39]],\n",
            "\n",
            "        [[40, 41, 42, 43, 44],\n",
            "         [45, 46, 47, 48, 49],\n",
            "         [50, 51, 52, 53, 54],\n",
            "         [55, 56, 57, 58, 59]]])\n"
          ]
        }
      ]
    },
    {
      "cell_type": "code",
      "source": [
        "x.transpose(1,0)"
      ],
      "metadata": {
        "colab": {
          "base_uri": "https://localhost:8080/"
        },
        "id": "LZ1j_9K3qy-1",
        "outputId": "8b45f0ec-d3a0-4acc-cc03-9236464427cc"
      },
      "execution_count": 75,
      "outputs": [
        {
          "output_type": "execute_result",
          "data": {
            "text/plain": [
              "tensor([[[ 0,  1,  2,  3,  4],\n",
              "         [20, 21, 22, 23, 24],\n",
              "         [40, 41, 42, 43, 44]],\n",
              "\n",
              "        [[ 5,  6,  7,  8,  9],\n",
              "         [25, 26, 27, 28, 29],\n",
              "         [45, 46, 47, 48, 49]],\n",
              "\n",
              "        [[10, 11, 12, 13, 14],\n",
              "         [30, 31, 32, 33, 34],\n",
              "         [50, 51, 52, 53, 54]],\n",
              "\n",
              "        [[15, 16, 17, 18, 19],\n",
              "         [35, 36, 37, 38, 39],\n",
              "         [55, 56, 57, 58, 59]]])"
            ]
          },
          "metadata": {},
          "execution_count": 75
        }
      ]
    },
    {
      "cell_type": "code",
      "source": [
        "x.transpose(0,1)"
      ],
      "metadata": {
        "colab": {
          "base_uri": "https://localhost:8080/"
        },
        "id": "XAGn3yWoq5-4",
        "outputId": "fe88f3d8-59ad-405e-e2cf-c45ebfe839f6"
      },
      "execution_count": 76,
      "outputs": [
        {
          "output_type": "execute_result",
          "data": {
            "text/plain": [
              "tensor([[[ 0,  1,  2,  3,  4],\n",
              "         [20, 21, 22, 23, 24],\n",
              "         [40, 41, 42, 43, 44]],\n",
              "\n",
              "        [[ 5,  6,  7,  8,  9],\n",
              "         [25, 26, 27, 28, 29],\n",
              "         [45, 46, 47, 48, 49]],\n",
              "\n",
              "        [[10, 11, 12, 13, 14],\n",
              "         [30, 31, 32, 33, 34],\n",
              "         [50, 51, 52, 53, 54]],\n",
              "\n",
              "        [[15, 16, 17, 18, 19],\n",
              "         [35, 36, 37, 38, 39],\n",
              "         [55, 56, 57, 58, 59]]])"
            ]
          },
          "metadata": {},
          "execution_count": 76
        }
      ]
    },
    {
      "cell_type": "code",
      "source": [
        "x.permute(1,0,2).shape\n"
      ],
      "metadata": {
        "colab": {
          "base_uri": "https://localhost:8080/"
        },
        "id": "JfXMS1yWq807",
        "outputId": "3d0b93cc-4bf5-466e-c389-3aa37167cb80"
      },
      "execution_count": 77,
      "outputs": [
        {
          "output_type": "execute_result",
          "data": {
            "text/plain": [
              "torch.Size([4, 3, 5])"
            ]
          },
          "metadata": {},
          "execution_count": 77
        }
      ]
    },
    {
      "cell_type": "code",
      "source": [
        "x.permute(2,0,1)"
      ],
      "metadata": {
        "colab": {
          "base_uri": "https://localhost:8080/"
        },
        "id": "BXUmjItOrKP8",
        "outputId": "a73bf030-6f09-45e8-cec8-9d7b4d5662fa"
      },
      "execution_count": 80,
      "outputs": [
        {
          "output_type": "execute_result",
          "data": {
            "text/plain": [
              "tensor([[[ 0,  5, 10, 15],\n",
              "         [20, 25, 30, 35],\n",
              "         [40, 45, 50, 55]],\n",
              "\n",
              "        [[ 1,  6, 11, 16],\n",
              "         [21, 26, 31, 36],\n",
              "         [41, 46, 51, 56]],\n",
              "\n",
              "        [[ 2,  7, 12, 17],\n",
              "         [22, 27, 32, 37],\n",
              "         [42, 47, 52, 57]],\n",
              "\n",
              "        [[ 3,  8, 13, 18],\n",
              "         [23, 28, 33, 38],\n",
              "         [43, 48, 53, 58]],\n",
              "\n",
              "        [[ 4,  9, 14, 19],\n",
              "         [24, 29, 34, 39],\n",
              "         [44, 49, 54, 59]]])"
            ]
          },
          "metadata": {},
          "execution_count": 80
        }
      ]
    },
    {
      "cell_type": "code",
      "source": [
        "x"
      ],
      "metadata": {
        "colab": {
          "base_uri": "https://localhost:8080/"
        },
        "id": "kv_43cctrRjh",
        "outputId": "c12ed0e4-9105-4889-a718-1721674ab270"
      },
      "execution_count": 81,
      "outputs": [
        {
          "output_type": "execute_result",
          "data": {
            "text/plain": [
              "tensor([[[ 0,  1,  2,  3,  4],\n",
              "         [ 5,  6,  7,  8,  9],\n",
              "         [10, 11, 12, 13, 14],\n",
              "         [15, 16, 17, 18, 19]],\n",
              "\n",
              "        [[20, 21, 22, 23, 24],\n",
              "         [25, 26, 27, 28, 29],\n",
              "         [30, 31, 32, 33, 34],\n",
              "         [35, 36, 37, 38, 39]],\n",
              "\n",
              "        [[40, 41, 42, 43, 44],\n",
              "         [45, 46, 47, 48, 49],\n",
              "         [50, 51, 52, 53, 54],\n",
              "         [55, 56, 57, 58, 59]]])"
            ]
          },
          "metadata": {},
          "execution_count": 81
        }
      ]
    },
    {
      "cell_type": "code",
      "source": [
        "x.permute(2,0,1)[:,0,:]"
      ],
      "metadata": {
        "colab": {
          "base_uri": "https://localhost:8080/"
        },
        "id": "0Jpus8whsAEM",
        "outputId": "2f7b6388-834e-401b-c1c5-cfb7c31a89c0"
      },
      "execution_count": 82,
      "outputs": [
        {
          "output_type": "execute_result",
          "data": {
            "text/plain": [
              "tensor([[ 0,  5, 10, 15],\n",
              "        [ 1,  6, 11, 16],\n",
              "        [ 2,  7, 12, 17],\n",
              "        [ 3,  8, 13, 18],\n",
              "        [ 4,  9, 14, 19]])"
            ]
          },
          "metadata": {},
          "execution_count": 82
        }
      ]
    },
    {
      "cell_type": "code",
      "source": [
        "x = torch.arange(6).view(2,3)\n",
        "x"
      ],
      "metadata": {
        "colab": {
          "base_uri": "https://localhost:8080/"
        },
        "id": "-CkGx8XBsR9X",
        "outputId": "8d7fe471-bb2b-4171-e491-c1792bad1a32"
      },
      "execution_count": 83,
      "outputs": [
        {
          "output_type": "execute_result",
          "data": {
            "text/plain": [
              "tensor([[0, 1, 2],\n",
              "        [3, 4, 5]])"
            ]
          },
          "metadata": {},
          "execution_count": 83
        }
      ]
    },
    {
      "cell_type": "code",
      "source": [
        "x.transpose(0,1)"
      ],
      "metadata": {
        "colab": {
          "base_uri": "https://localhost:8080/"
        },
        "id": "K3OdtcvltPIV",
        "outputId": "247d58ec-9f2f-42c4-a838-b493a36aaf7d"
      },
      "execution_count": 84,
      "outputs": [
        {
          "output_type": "execute_result",
          "data": {
            "text/plain": [
              "tensor([[0, 3],\n",
              "        [1, 4],\n",
              "        [2, 5]])"
            ]
          },
          "metadata": {},
          "execution_count": 84
        }
      ]
    },
    {
      "cell_type": "code",
      "source": [
        "x.view(3,2)"
      ],
      "metadata": {
        "colab": {
          "base_uri": "https://localhost:8080/"
        },
        "id": "zgNv1_PStTHA",
        "outputId": "3b5acea3-7d46-4660-a055-51b5eaa66eef"
      },
      "execution_count": 85,
      "outputs": [
        {
          "output_type": "execute_result",
          "data": {
            "text/plain": [
              "tensor([[0, 1],\n",
              "        [2, 3],\n",
              "        [4, 5]])"
            ]
          },
          "metadata": {},
          "execution_count": 85
        }
      ]
    },
    {
      "cell_type": "code",
      "source": [
        "def f(x):\n",
        "    if (x.data > 0).all():\n",
        "        return torch.sin(x)\n",
        "    else:\n",
        "        return torch.cos(x)"
      ],
      "metadata": {
        "id": "ClLmTBkStUvc"
      },
      "execution_count": 86,
      "outputs": []
    },
    {
      "cell_type": "code",
      "source": [
        "x = torch.tensor([1.0, 0.5], requires_grad=True)\n",
        "y = f(x)\n",
        "y"
      ],
      "metadata": {
        "colab": {
          "base_uri": "https://localhost:8080/"
        },
        "id": "e-yOKFWXwCfL",
        "outputId": "76f37d2e-c052-458d-bd8d-625ef9eedb99"
      },
      "execution_count": 87,
      "outputs": [
        {
          "output_type": "execute_result",
          "data": {
            "text/plain": [
              "tensor([0.8415, 0.4794], grad_fn=<SinBackward0>)"
            ]
          },
          "metadata": {},
          "execution_count": 87
        }
      ]
    },
    {
      "cell_type": "code",
      "source": [
        "torch.sin(torch.tensor([0.5]))"
      ],
      "metadata": {
        "colab": {
          "base_uri": "https://localhost:8080/"
        },
        "id": "HUegtCKGwEEa",
        "outputId": "ab08a08e-5a08-4561-9784-d0a94cd3cefc"
      },
      "execution_count": 90,
      "outputs": [
        {
          "output_type": "execute_result",
          "data": {
            "text/plain": [
              "tensor([0.4794])"
            ]
          },
          "metadata": {},
          "execution_count": 90
        }
      ]
    },
    {
      "cell_type": "code",
      "source": [
        "x = torch.tensor([1.0, -1.0], requires_grad=True)\n",
        "mask = torch.gt(x, 0)\n",
        "mask"
      ],
      "metadata": {
        "colab": {
          "base_uri": "https://localhost:8080/"
        },
        "id": "dt8moBBYwNi7",
        "outputId": "660e5064-b7bf-4449-9120-cb5150eb667c"
      },
      "execution_count": 93,
      "outputs": [
        {
          "output_type": "execute_result",
          "data": {
            "text/plain": [
              "tensor([ True, False])"
            ]
          },
          "metadata": {},
          "execution_count": 93
        }
      ]
    },
    {
      "cell_type": "code",
      "source": [
        "x = torch.ones(2, 2, requires_grad = True)\n",
        "describe(x)\n",
        "print(x.grad is None)"
      ],
      "metadata": {
        "colab": {
          "base_uri": "https://localhost:8080/"
        },
        "id": "rQSm2fsMxA0n",
        "outputId": "8c358cc8-7a53-4f9d-fa3a-c4a750ead232"
      },
      "execution_count": 95,
      "outputs": [
        {
          "output_type": "stream",
          "name": "stdout",
          "text": [
            "타입 : torch.FloatTensor\n",
            "크기 : torch.Size([2, 2])\n",
            "값 : \n",
            "tensor([[1., 1.],\n",
            "        [1., 1.]], requires_grad=True)\n",
            "True\n"
          ]
        }
      ]
    },
    {
      "cell_type": "code",
      "source": [
        "y = (x + 2) * (x + 5) + 3\n",
        "describe(y)\n",
        "print(x.grad is None)"
      ],
      "metadata": {
        "colab": {
          "base_uri": "https://localhost:8080/"
        },
        "id": "7_ZZXmsNyLS-",
        "outputId": "5c9445b3-aaa1-48cd-819f-eaf9f60dc461"
      },
      "execution_count": 96,
      "outputs": [
        {
          "output_type": "stream",
          "name": "stdout",
          "text": [
            "타입 : torch.FloatTensor\n",
            "크기 : torch.Size([2, 2])\n",
            "값 : \n",
            "tensor([[21., 21.],\n",
            "        [21., 21.]], grad_fn=<AddBackward0>)\n",
            "True\n"
          ]
        }
      ]
    },
    {
      "cell_type": "code",
      "source": [
        "z = y.mean()\n",
        "describe(z)\n",
        "z.backward()\n",
        "print(x.grad is None)"
      ],
      "metadata": {
        "colab": {
          "base_uri": "https://localhost:8080/"
        },
        "id": "05Gq-sytyTfQ",
        "outputId": "8f6b5ece-a71c-4459-e749-7cda5b523714"
      },
      "execution_count": 97,
      "outputs": [
        {
          "output_type": "stream",
          "name": "stdout",
          "text": [
            "타입 : torch.FloatTensor\n",
            "크기 : torch.Size([])\n",
            "값 : \n",
            "21.0\n",
            "False\n"
          ]
        }
      ]
    },
    {
      "cell_type": "code",
      "source": [
        "device = torch.device(\"cuda\" if torch.cuda.is_available() else \"cpu\")\n",
        "device"
      ],
      "metadata": {
        "colab": {
          "base_uri": "https://localhost:8080/"
        },
        "id": "i7-7N1ZyyYKb",
        "outputId": "add96d14-12b1-4cb9-b541-c798e6138b9f"
      },
      "execution_count": 98,
      "outputs": [
        {
          "output_type": "execute_result",
          "data": {
            "text/plain": [
              "device(type='cpu')"
            ]
          },
          "metadata": {},
          "execution_count": 98
        }
      ]
    },
    {
      "cell_type": "code",
      "source": [
        "type(device)"
      ],
      "metadata": {
        "colab": {
          "base_uri": "https://localhost:8080/"
        },
        "id": "V0LkiFc0zKhp",
        "outputId": "11131267-e0d9-4f07-ac82-ebb0ffcba438"
      },
      "execution_count": 99,
      "outputs": [
        {
          "output_type": "execute_result",
          "data": {
            "text/plain": [
              "torch.device"
            ]
          },
          "metadata": {},
          "execution_count": 99
        }
      ]
    },
    {
      "cell_type": "code",
      "source": [
        "np.concatenate()\n",
        "\n"
      ],
      "metadata": {
        "id": "mKaPCrJTzMey"
      },
      "execution_count": null,
      "outputs": []
    },
    {
      "cell_type": "markdown",
      "source": [
        "### **!!!device 설정**"
      ],
      "metadata": {
        "id": "CmsCHe-b2JhW"
      }
    },
    {
      "cell_type": "code",
      "source": [
        "'''\n",
        "tensor.to(device)\n",
        "tensor.cuda()\n",
        "tensor.cpu()\n",
        "\n",
        "'''"
      ],
      "metadata": {
        "id": "lxBR9ny60Xim"
      },
      "execution_count": null,
      "outputs": []
    },
    {
      "cell_type": "code",
      "source": [
        "x = torch.Tensor(2,3).unsqueeze(dim = 0)\n",
        "x"
      ],
      "metadata": {
        "colab": {
          "base_uri": "https://localhost:8080/"
        },
        "id": "Dn9nc9Gn0tum",
        "outputId": "ed418c14-f718-4848-864a-60c8e62803a2"
      },
      "execution_count": 102,
      "outputs": [
        {
          "output_type": "execute_result",
          "data": {
            "text/plain": [
              "tensor([[[-6.2458e-25,  4.5832e-41,  5.2143e-35],\n",
              "         [ 0.0000e+00,  4.4842e-44,  0.0000e+00]]])"
            ]
          },
          "metadata": {},
          "execution_count": 102
        }
      ]
    },
    {
      "cell_type": "code",
      "source": [
        "x.shape"
      ],
      "metadata": {
        "colab": {
          "base_uri": "https://localhost:8080/"
        },
        "id": "PJ9IynkP05oK",
        "outputId": "e17c46d6-f1c3-43a3-948f-a0e46697e5c0"
      },
      "execution_count": 103,
      "outputs": [
        {
          "output_type": "execute_result",
          "data": {
            "text/plain": [
              "torch.Size([1, 2, 3])"
            ]
          },
          "metadata": {},
          "execution_count": 103
        }
      ]
    },
    {
      "cell_type": "code",
      "source": [
        "x = x.squeeze()"
      ],
      "metadata": {
        "id": "NOVvRjXE2X5T"
      },
      "execution_count": 104,
      "outputs": []
    },
    {
      "cell_type": "code",
      "source": [
        "x.shape"
      ],
      "metadata": {
        "colab": {
          "base_uri": "https://localhost:8080/"
        },
        "id": "vfx2MfXO2arC",
        "outputId": "493996c0-371f-47e6-cb65-77f4951842ee"
      },
      "execution_count": 105,
      "outputs": [
        {
          "output_type": "execute_result",
          "data": {
            "text/plain": [
              "torch.Size([2, 3])"
            ]
          },
          "metadata": {},
          "execution_count": 105
        }
      ]
    },
    {
      "cell_type": "code",
      "source": [
        "3 + torch.rand(5,3)*4"
      ],
      "metadata": {
        "colab": {
          "base_uri": "https://localhost:8080/"
        },
        "id": "DcbG4E1D2c9t",
        "outputId": "21797012-617b-4d4a-8733-c0875203a184"
      },
      "execution_count": 106,
      "outputs": [
        {
          "output_type": "execute_result",
          "data": {
            "text/plain": [
              "tensor([[3.9841, 6.3897, 6.6420],\n",
              "        [3.6367, 5.6079, 4.4468],\n",
              "        [3.9167, 4.1420, 6.0289],\n",
              "        [3.4320, 3.1774, 4.2329],\n",
              "        [4.1527, 5.8088, 4.3921]])"
            ]
          },
          "metadata": {},
          "execution_count": 106
        }
      ]
    },
    {
      "cell_type": "code",
      "source": [
        "torch.randn(5,3)"
      ],
      "metadata": {
        "colab": {
          "base_uri": "https://localhost:8080/"
        },
        "id": "2BRiYTPB2ulT",
        "outputId": "bcd8e4e9-cbbf-417b-a627-005bd71a6659"
      },
      "execution_count": 107,
      "outputs": [
        {
          "output_type": "execute_result",
          "data": {
            "text/plain": [
              "tensor([[-1.0671,  0.7887, -0.4880],\n",
              "        [ 0.1082, -0.5854,  0.5361],\n",
              "        [ 0.6961,  1.2337,  2.9398],\n",
              "        [-1.2102,  0.4038, -0.1027],\n",
              "        [ 0.4189,  0.2222,  0.8435]])"
            ]
          },
          "metadata": {},
          "execution_count": 107
        }
      ]
    },
    {
      "cell_type": "code",
      "source": [
        "a = torch.tensor([1,1,1,0,1])\n",
        "torch.nonzero(a, as_tuple = True)"
      ],
      "metadata": {
        "colab": {
          "base_uri": "https://localhost:8080/"
        },
        "id": "02m_ufdX2yDZ",
        "outputId": "f7cde17b-cc0a-4716-b59d-f39566f84505"
      },
      "execution_count": 109,
      "outputs": [
        {
          "output_type": "execute_result",
          "data": {
            "text/plain": [
              "(tensor([0, 1, 2, 4]),)"
            ]
          },
          "metadata": {},
          "execution_count": 109
        }
      ]
    },
    {
      "cell_type": "code",
      "source": [
        "x = torch.tensor([[1, 2],\n",
        "                  [3, 4]])"
      ],
      "metadata": {
        "id": "PYlXBCet3RtB"
      },
      "execution_count": 110,
      "outputs": []
    },
    {
      "cell_type": "code",
      "source": [
        "x.expand(3, 2)"
      ],
      "metadata": {
        "colab": {
          "base_uri": "https://localhost:8080/",
          "height": 195
        },
        "id": "TnH3DxBV4K_o",
        "outputId": "1d3bf4f5-d486-4324-a7b4-13bb0eceae5a"
      },
      "execution_count": 111,
      "outputs": [
        {
          "output_type": "error",
          "ename": "RuntimeError",
          "evalue": "ignored",
          "traceback": [
            "\u001b[0;31m---------------------------------------------------------------------------\u001b[0m",
            "\u001b[0;31mRuntimeError\u001b[0m                              Traceback (most recent call last)",
            "\u001b[0;32m<ipython-input-111-c657dd4651aa>\u001b[0m in \u001b[0;36m<cell line: 1>\u001b[0;34m()\u001b[0m\n\u001b[0;32m----> 1\u001b[0;31m \u001b[0mx\u001b[0m\u001b[0;34m.\u001b[0m\u001b[0mexpand\u001b[0m\u001b[0;34m(\u001b[0m\u001b[0;36m3\u001b[0m\u001b[0;34m,\u001b[0m \u001b[0;36m2\u001b[0m\u001b[0;34m)\u001b[0m\u001b[0;34m\u001b[0m\u001b[0;34m\u001b[0m\u001b[0m\n\u001b[0m",
            "\u001b[0;31mRuntimeError\u001b[0m: The expanded size of the tensor (3) must match the existing size (2) at non-singleton dimension 0.  Target sizes: [3, 2].  Tensor sizes: [2, 2]"
          ]
        }
      ]
    },
    {
      "cell_type": "code",
      "source": [
        "a = torch.rand(1, 1, 3)\n",
        "print(a.size()) # [1, 1, 3]\n",
        "b = a.expand(4, -1, -1)\n",
        "print(b.size()) # [4, 1, 3"
      ],
      "metadata": {
        "colab": {
          "base_uri": "https://localhost:8080/"
        },
        "id": "vDsUfjBV4MnE",
        "outputId": "97a0bb9b-f6d1-467a-bfe0-aec9f36d7ad4"
      },
      "execution_count": 112,
      "outputs": [
        {
          "output_type": "stream",
          "name": "stdout",
          "text": [
            "torch.Size([1, 1, 3])\n",
            "torch.Size([4, 1, 3])\n"
          ]
        }
      ]
    },
    {
      "cell_type": "code",
      "source": [
        "b"
      ],
      "metadata": {
        "colab": {
          "base_uri": "https://localhost:8080/"
        },
        "id": "IHYCl6LB4nP3",
        "outputId": "e657c4f1-58b4-4e1d-eb3c-6ac4c3b30d79"
      },
      "execution_count": 113,
      "outputs": [
        {
          "output_type": "execute_result",
          "data": {
            "text/plain": [
              "tensor([[[0.4464, 0.9355, 0.0495]],\n",
              "\n",
              "        [[0.4464, 0.9355, 0.0495]],\n",
              "\n",
              "        [[0.4464, 0.9355, 0.0495]],\n",
              "\n",
              "        [[0.4464, 0.9355, 0.0495]]])"
            ]
          },
          "metadata": {},
          "execution_count": 113
        }
      ]
    },
    {
      "cell_type": "code",
      "source": [
        "a = torch.rand(3,4,5)\n",
        "b = torch.rand(3,5,4)\n",
        "torch.bmm(a, b).shape"
      ],
      "metadata": {
        "colab": {
          "base_uri": "https://localhost:8080/"
        },
        "id": "ABuCPUiF4nlH",
        "outputId": "b3523b43-957e-4ac5-9084-d05c46acf602"
      },
      "execution_count": 115,
      "outputs": [
        {
          "output_type": "execute_result",
          "data": {
            "text/plain": [
              "torch.Size([3, 4, 4])"
            ]
          },
          "metadata": {},
          "execution_count": 115
        }
      ]
    },
    {
      "cell_type": "code",
      "source": [],
      "metadata": {
        "id": "qe43CLC-47XX"
      },
      "execution_count": null,
      "outputs": []
    }
  ]
}